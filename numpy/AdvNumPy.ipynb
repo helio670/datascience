{
 "cells": [
  {
   "cell_type": "markdown",
   "metadata": {},
   "source": [
    "![NASA](http://www.nasa.gov/sites/all/themes/custom/nasatwo/images/nasa-logo.svg)\n",
    "\n",
    "<center>\n",
    "<h1>GSFC Python Bootcamp</h1>\n",
    "</center>\n",
    "\n",
    "<CENTER>\n",
    "<h1 style=\"color:red\">\n",
    "Advanced Numpy\n",
    "</h1>\n",
    "</CENTER>\n",
    "<hr>"
   ]
  },
  {
   "cell_type": "markdown",
   "metadata": {},
   "source": [
    "## Data Types\n",
    "A NumPy data type, sometimes called a *dtype* is a class of value that a cell of an array can hold. The most common data types for arrays are numbers, but an array can also hold pointers to python objects. The data type for an array is stored in the `arr.dtype` attribute.\n",
    "\n",
    "<table>\n",
    "    <tr>\n",
    "        <td><strong>Base Data Type</strong></td>\n",
    "        <td><strong>Variations</strong></td>\n",
    "    </tr>\n",
    "     <tr>\n",
    "        <td>Floating Point</td>\n",
    "        <td>np.float32, np.float64</td>\n",
    "     </tr>\n",
    "     <tr>\n",
    "        <td>Complex</td>\n",
    "        <td>np.complex64, np.complex128</td>\n",
    "     </tr>  \n",
    "    <tr>\n",
    "        <td>Signed Integers</td>\n",
    "        <td>np.int8, np.int16, np.int32, np.int64</td>\n",
    "     </tr>\n",
    "    <tr>\n",
    "        <td>Unsigned Integers</td>\n",
    "        <td>np.uint8, np.uint16, np.uint32, np.uint64</td>\n",
    "     </tr>\n",
    "     <tr>\n",
    "         <td>Python Objects</td>\n",
    "         <td>object</td>\n",
    "     </tr>\n",
    "</table>\n",
    "Sometimes, we will load data as one type and wish to convert it to another type. There are two ways of doing this. We can convert the values to a new data type (conversion) or change the method in which we interpret the underlying memory (reinterpretation). "
   ]
  },
  {
   "cell_type": "code",
   "execution_count": null,
   "metadata": {},
   "outputs": [],
   "source": [
    "import numpy as np"
   ]
  },
  {
   "cell_type": "code",
   "execution_count": null,
   "metadata": {},
   "outputs": [],
   "source": [
    "# To convert the values to a new data type (conversion), use the astype() method\n",
    "float_array = np.arange(100, dtype=np.float64)\n",
    "float_array"
   ]
  },
  {
   "cell_type": "code",
   "execution_count": null,
   "metadata": {},
   "outputs": [],
   "source": [
    "int_array = float_array.astype(np.uint32)\n",
    "int_array"
   ]
  },
  {
   "cell_type": "code",
   "execution_count": null,
   "metadata": {},
   "outputs": [],
   "source": [
    "# Suppose we wanted to access the individual bytes of an array of 6\n",
    "# 64-bit floating point numbers. This would require reinterpretation.\n",
    "byte_array = float_array.copy()\n",
    "byte_array.dtype = np.uint8\n",
    "byte_array[:16]"
   ]
  },
  {
   "cell_type": "markdown",
   "metadata": {},
   "source": [
    "**Exercise:** Create a numpy array with the data type `object` and store in three datetime objects."
   ]
  },
  {
   "cell_type": "code",
   "execution_count": null,
   "metadata": {},
   "outputs": [],
   "source": [
    "from datetime import datetime, timedelta\n",
    "\n",
    "array_size = 3\n",
    "array_dtype = ...\n",
    "arr = np.zeros(array_size, array_dtype)\n",
    "\n",
    "arr[0] = datetime.now()\n",
    "arr[1] = arr[0] + timedelta(seconds=1)\n",
    "arr[2] = arr[1] + timedelta(seconds=1)\n",
    "\n",
    "print('If the code got here without crashing, you pass!')"
   ]
  },
  {
   "cell_type": "markdown",
   "metadata": {},
   "source": [
    "**Exercise**: Use an if statement with a condition to check that the `np.zeros((3, 3))` function returns a float64 (it does). "
   ]
  },
  {
   "cell_type": "code",
   "execution_count": null,
   "metadata": {},
   "outputs": [],
   "source": [
    "arr = np.zeros((3, 3))\n",
    "\n",
    "if arr.dtype == ...:\n",
    "    print('The array dtype is float64')\n",
    "else:\n",
    "    print('The array is not float64')"
   ]
  },
  {
   "cell_type": "markdown",
   "metadata": {},
   "source": [
    "## Complex Masks With Boolean Algebra\n",
    "When you compare an numerical array to a value, it will create a booelan array. When used on boolean arrays, following operators can combined them to create complex masks:\n",
    "- `X & Y` (element-wise AND)\n",
    "- `X | Y` (element-wise OR)\n",
    "- `~X` (element-wise NOT)"
   ]
  },
  {
   "cell_type": "code",
   "execution_count": null,
   "metadata": {},
   "outputs": [],
   "source": [
    "arr = np.arange(100)\n",
    "arr"
   ]
  },
  {
   "cell_type": "code",
   "execution_count": null,
   "metadata": {},
   "outputs": [],
   "source": [
    "# Select elements if they are less than 5 or both greater than 90 and even\n",
    "mask = (arr < 5) | ((arr > 90) & (arr % 2 == 0)) \n",
    "arr[mask]"
   ]
  },
  {
   "cell_type": "markdown",
   "metadata": {},
   "source": [
    "**Exercise:** The arrays `x` and `y` are of the same size are created to randomly sample vectors in $\\mathbb{R}^2$ with coordinates between 0 and 1. Create a mask that will select the subset of these points with a magnitude $\\sqrt{x^2+y^2} < 1$."
   ]
  },
  {
   "cell_type": "code",
   "execution_count": null,
   "metadata": {},
   "outputs": [],
   "source": [
    "from matplotlib import pyplot as plt\n",
    "%matplotlib inline\n",
    "\n",
    "x = np.random.rand(1000)\n",
    "y = np.random.rand(1000)\n",
    "\n",
    "mask = x < .5    # change this line\n",
    "\n",
    "plt.figure(figsize=(8, 8))\n",
    "plt.plot(x[mask], y[mask], 'bo', label='In Mask')\n",
    "plt.plot(x[~mask], y[~mask], 'ro', label='Outside Mask')\n",
    "plt.xlabel('X')\n",
    "plt.ylabel('Y')\n",
    "plt.legend(ncol=2)"
   ]
  },
  {
   "cell_type": "markdown",
   "metadata": {},
   "source": [
    "# Meshgrid\n",
    "The `meshgrid()` method is used for creating image grids out of two 1-dimensional axis vectors. If you pass it two 1-dimensional vectors, it will return two 2-dimensional arrays where the values of the first are the coordinates along the first axis and the second are the coordinates along the second axis. "
   ]
  },
  {
   "cell_type": "code",
   "execution_count": null,
   "metadata": {},
   "outputs": [],
   "source": [
    "x = np.linspace(-50, 50, 100) # 1-dimensional array\n",
    "y = np.linspace(-50, 50, 100) # 1-dimensional array\n",
    "x_img, y_img = np.meshgrid(x, y, indexing='ij') # 2-dimensional arrays\n",
    "r_img = x_img**2 + y_img**2\n",
    "\n",
    "plt.pcolor(x_img, y_img, r_img)\n",
    "plt.colorbar()"
   ]
  },
  {
   "cell_type": "markdown",
   "metadata": {},
   "source": [
    "**Exercise**:  Plot the function $f(x, y) = \\mathrm{cos}(x) \\mathrm{cos}(y)$ for x and y between -5 and 5."
   ]
  },
  {
   "cell_type": "code",
   "execution_count": null,
   "metadata": {},
   "outputs": [],
   "source": []
  },
  {
   "cell_type": "markdown",
   "metadata": {},
   "source": [
    "# Any() and All(), and Sum() boolean arrays\n",
    "Boolean arrays have useful methods called `any()` and `all()` that return a single value of `True` or `False`. There is also a method called `sum()`, which will return the number of `True elements`. This can be useful for asking questions about arrays without writing a for loop."
   ]
  },
  {
   "cell_type": "code",
   "execution_count": null,
   "metadata": {},
   "outputs": [],
   "source": [
    "import pandas as pd\n",
    "\n",
    "sunspot_frame = pd.read_table(\n",
    "    'http://www.sidc.be/silso/DATA/SN_d_tot_V2.0.txt',\n",
    "    sep=\"\\s+\",\n",
    "    engine='python',\n",
    "    names=('year', 'month', 'day', 'data_frac', 'daily_sunspot_num', 'daily_stdev', 'n_samples', 'unused')\n",
    ")"
   ]
  },
  {
   "cell_type": "code",
   "execution_count": null,
   "metadata": {},
   "outputs": [],
   "source": [
    "sunspot_frame.head()"
   ]
  },
  {
   "cell_type": "code",
   "execution_count": null,
   "metadata": {},
   "outputs": [],
   "source": [
    "print('Has there ever been a day with more than 500 recorded sunspots? ', end='')\n",
    "\n",
    "mask = (sunspot_frame.daily_sunspot_num > 500)\n",
    "check = mask.any()\n",
    "\n",
    "if check:\n",
    "    print('Yes')\n",
    "else:\n",
    "    print('No')"
   ]
  },
  {
   "cell_type": "markdown",
   "metadata": {},
   "source": [
    "**Exercise:** How many days are in this data with more than 500 recorded sunspots?"
   ]
  },
  {
   "cell_type": "code",
   "execution_count": null,
   "metadata": {},
   "outputs": [],
   "source": [
    "mask = (sunspot_frame.daily_sunspot_num > 500)\n",
    "num_such_days = ...\n",
    "\n",
    "print(f'This dataset has {\"???\" if num_such_days == Ellipsis else num_such_days} days '\n",
    "      f'with more than 500 recorded sunspots')"
   ]
  },
  {
   "cell_type": "code",
   "execution_count": null,
   "metadata": {},
   "outputs": [],
   "source": [
    "sunspot_frame[mask]"
   ]
  },
  {
   "cell_type": "markdown",
   "metadata": {},
   "source": [
    "## Array Views: Shallow vs Deep Copy\n",
    "When you index a numpy array, the second array will point to the same underlying data. When you change the second array, the first array will change as well since they point to the same source as well. You have made what is known as a *view* of the first array, sometimes called a \"shallow copy\". This is useful because it saves memory and most of the time this is what you want.\n",
    "\n",
    "If this is not what you want, you can create a \"deep copy\" using the `arr.copy()` method."
   ]
  },
  {
   "cell_type": "code",
   "execution_count": null,
   "metadata": {},
   "outputs": [],
   "source": [
    "first_array = np.eye(3)\n",
    "first_array"
   ]
  },
  {
   "cell_type": "code",
   "execution_count": null,
   "metadata": {},
   "outputs": [],
   "source": [
    "second_array = first_array[:2, :2]\n",
    "second_array[0, 0] = 2\n",
    "second_array[1, 1] = 3\n",
    "second_array"
   ]
  },
  {
   "cell_type": "code",
   "execution_count": null,
   "metadata": {},
   "outputs": [],
   "source": [
    "first_array"
   ]
  },
  {
   "cell_type": "markdown",
   "metadata": {},
   "source": [
    "**Exercise:** Fix the above code (copied below) so `first_array` doesn't change after we change the elements of `second_array`."
   ]
  },
  {
   "cell_type": "code",
   "execution_count": null,
   "metadata": {},
   "outputs": [],
   "source": [
    "first_array = np.eye(3)\n",
    "first_array\n",
    "\n",
    "second_array = first_array[:2, :2]\n",
    "second_array[1, 1] = 2\n",
    "second_array[1, 1] = 3\n",
    "\n",
    "if np.trace(first_array) == 3:\n",
    "    print('Test passed!')\n",
    "else:\n",
    "    print('Test incomplete!')"
   ]
  },
  {
   "cell_type": "markdown",
   "metadata": {},
   "source": [
    "## Histogramming\n",
    "The NumPy method for histogramming is `np.histrogram(array, bins)`. You pass it an array and it sends you back an array of the bin counts (size $N$) and the bins edges (size $N+1$). If you set the `bins` to a number, it will create equally spaced bins in the range of the data. If you set `bins` to an array, you can use custom-specified linearly or log-spaced bins. If you use log-spaced bins, you can have the histogram values normalized so the interal is 1 using the `density=True` option."
   ]
  },
  {
   "cell_type": "code",
   "execution_count": null,
   "metadata": {},
   "outputs": [],
   "source": [
    "# Example using Automatically Sized Bins\n",
    "arr = np.random.normal(size=100000)\n",
    "\n",
    "hist_values, bin_values = np.histogram(arr, bins=40)\n",
    "plt.bar(bin_values[:-1], hist_values, width=np.diff(bin_values)[0])\n",
    "plt.xlabel('Gaussian Random Variable')\n",
    "plt.ylabel('Bin Count')"
   ]
  },
  {
   "cell_type": "code",
   "execution_count": null,
   "metadata": {},
   "outputs": [],
   "source": [
    "# Example using Custom Linearly-Spaced Bins\n",
    "arr = np.random.normal(size=100000)\n",
    "\n",
    "bin_values = np.linspace(-7.5, 7.5, 100)\n",
    "hist_values, _ = np.histogram(arr, bins=bin_values)\n",
    "plt.bar(bin_values[:-1], hist_values, width=np.diff(bin_values)[0])\n",
    "plt.xlabel('Gaussian Random Variable')\n",
    "plt.ylabel('Bin Count')"
   ]
  },
  {
   "cell_type": "code",
   "execution_count": null,
   "metadata": {},
   "outputs": [],
   "source": [
    "# Example using Custom Linearly-Spaced Bins\n",
    "arr = np.random.exponential(size=1000000)\n",
    "bin_values = np.logspace(-2, 2, 100)\n",
    "hist_values, _ = np.histogram(arr, bins=bin_values, density=True)\n",
    "plt.bar(bin_values[:-1], hist_values, width=np.diff(bin_values))\n",
    "plt.xscale('log')\n",
    "plt.xlabel('Exponential Random Variable')\n",
    "plt.ylabel('Probability Density Function')"
   ]
  },
  {
   "cell_type": "markdown",
   "metadata": {},
   "source": [
    "## Working with NaN and Inf\n",
    "Floating point numbers on modern computers have the ability to hold special values for `NaN` (\"Not-a-Number\"), `+Inf` (\"Positive Infinity\") and `-Inf` (\"Negative Infinity\"). They often times arise from computations that result in mathematical impossibilities such as $x/0$, $log(-1)$, or $\\sqrt{-1}$ (when using a non-complex data type).\n",
    "\n",
    "When you perform this kind of computation, Python will give you an warning and give you one of these. Sometimes rather than gaurding against these invalid computations before they happen, you want to let them happen and clean them up later.\n",
    "\n",
    "NaN's can be tricky because comparing two NaN's is always false. So how do you find them? Python has several methods for detecting if a number is one of these special types. These methods are: `np.isinf()`, `np.isneginf()`, `np.isposinf()`, and `np.isnan()`. These methods work on both arrays and single values.\n",
    "\n",
    "You can access the NaN value directly with `np.nan`."
   ]
  },
  {
   "cell_type": "code",
   "execution_count": null,
   "metadata": {},
   "outputs": [],
   "source": [
    "np.sqrt(-1)"
   ]
  },
  {
   "cell_type": "code",
   "execution_count": null,
   "metadata": {},
   "outputs": [],
   "source": [
    "np.log(-1)"
   ]
  },
  {
   "cell_type": "code",
   "execution_count": null,
   "metadata": {},
   "outputs": [],
   "source": [
    "np.arange(5)/0"
   ]
  },
  {
   "cell_type": "code",
   "execution_count": null,
   "metadata": {},
   "outputs": [],
   "source": [
    "-np.arange(5)/0"
   ]
  },
  {
   "cell_type": "markdown",
   "metadata": {},
   "source": [
    "**Exercise**: Two variables are sampled at the same time and place and we want to investigate the ratio between them. However, sometimes measurement artifacts get in the way and these variables will go to zero. This means that sometimes when we divide, we will get a `+Inf` of `-Inf` in place of our ratio. Compute the ratios with this imperfection, and then drop the Inf's before you find statistics on the ratio."
   ]
  },
  {
   "cell_type": "code",
   "execution_count": null,
   "metadata": {},
   "outputs": [],
   "source": [
    "x = np.array([.15, 0.00, .56, .22, .84, .63, 1.53, 7.3])\n",
    "y = np.array([0.40, 1.34, 0.56, 1.99, 1.50, 0.00, 3.57, 16.84])\n",
    "\n",
    "ratio = x / y\n",
    "\n",
    "ratio = ratio[np.isfinite(ratio)] # change me\n",
    "\n",
    "print(f'Ratio Mean: {ratio.mean()}')\n",
    "print(f'Ratio Std: {ratio.std()}')\n",
    "print(f'Ratio Min: {ratio.min()}')\n",
    "print(f'Ratio Max: {ratio.max()}')"
   ]
  },
  {
   "cell_type": "markdown",
   "metadata": {},
   "source": [
    "## Masked Arrays\n",
    "The masked array class is similar to an array, but has an extra layer which allows elements of the array to be marked as missing. This can be useful if you want define an array across time and space, but don't have measurements for all of the time and space. For exampe, you a sensor may be unable to make measurements for some portions of it's field of view, or may be inactive during a period of time."
   ]
  },
  {
   "cell_type": "code",
   "execution_count": null,
   "metadata": {},
   "outputs": [],
   "source": [
    "x = np.array([.15, 0.00, .56, .22, .84, .63, 1.53, 7.3])\n",
    "y = np.array([0.40, 1.34, 0.56, 1.99, 1.50, 0.00, 3.57, 16.84])\n",
    "ratio = x / y"
   ]
  },
  {
   "cell_type": "code",
   "execution_count": null,
   "metadata": {},
   "outputs": [],
   "source": [
    "from numpy.ma import MaskedArray\n",
    "\n",
    "masked_array = MaskedArray(ratio, mask=~np.isfinite(ratio))\n",
    "masked_array"
   ]
  },
  {
   "cell_type": "code",
   "execution_count": null,
   "metadata": {},
   "outputs": [],
   "source": [
    "masked_array.mean()"
   ]
  },
  {
   "cell_type": "markdown",
   "metadata": {},
   "source": [
    "## Solving Least-Squares Linear Systems\n",
    "Solving matrix equations in the style of $Ax=b$ or $Ax=0$ is a common task for data analysis. In the example below will find coefficients to fit a second order polynomial to a time series of electron number densities from the MMS mission to model how it is increasing on average.\n"
   ]
  },
  {
   "cell_type": "code",
   "execution_count": null,
   "metadata": {},
   "outputs": [],
   "source": [
    "# Download CDF File from the Internet\n",
    "import urllib.request\n",
    "import os\n",
    "\n",
    "file_url = 'https://gist.githubusercontent.com/ddasilva/04c3c15efc82f2c2af640ca8560add05/raw/83d9aaf0fee741a57fafc9b091fc17f9dd1d8ea2/gistfile1.txt'\n",
    "file_name = 'mms1_fpi_fast_l2_des-moms_20151016120000_v3.3.0.csv'\n",
    "urllib.request.urlretrieve(file_url, file_name)\n",
    "print('Download complete')"
   ]
  },
  {
   "cell_type": "code",
   "execution_count": null,
   "metadata": {},
   "outputs": [],
   "source": [
    "# Read times and electron number density out of the file\n",
    "mms_frame = pd.read_csv(file_name, parse_dates=['times'])\n",
    "times = mms_frame.times\n",
    "electron_num_density = mms_frame.electron_num_density\n",
    "\n",
    "print(\"Data loaded\")"
   ]
  },
  {
   "cell_type": "code",
   "execution_count": null,
   "metadata": {},
   "outputs": [],
   "source": [
    "plt.title('Observed Electron Increase')\n",
    "plt.plot(times, electron_num_density)\n",
    "plt.ylabel('Electron Number Density ($cm^{-3}$)')\n",
    "None"
   ]
  },
  {
   "cell_type": "markdown",
   "metadata": {},
   "source": [
    "**Exercise** The matrix equation is set up below. Solve it with `np.lingalg.lstsq(A, b, rcond=None)` and plot the results. This call will return four values, the first is the least-squares solution to the equation."
   ]
  },
  {
   "cell_type": "code",
   "execution_count": null,
   "metadata": {},
   "outputs": [],
   "source": [
    "import numpy as np\n",
    "\n",
    "polynomial_degree = 2\n",
    "num_rows = electron_num_density.size\n",
    "num_cols = polynomial_degree + 1\n",
    "numeric_times = np.arange(times.size)\n",
    "\n",
    "A = np.zeros((num_rows, num_cols))\n",
    "A[:, 0] = numeric_times**2\n",
    "A[:, 1] = numeric_times\n",
    "A[:, 2] = 1\n",
    "\n",
    "b = electron_num_density\n",
    "\n",
    "# Use np.linalg.lstsq to solve the matrix equation. See the exercise problem\n",
    "# statement for more information\n",
    "x = ...\n",
    "\n",
    "plt.title('Observed Electron Increase')\n",
    "plt.plot(times, electron_num_density)\n",
    "plt.plot(times, np.dot(A, x))\n",
    "plt.ylabel('Electron Number Density ($cm^{-3}$)')\n",
    "None"
   ]
  },
  {
   "cell_type": "markdown",
   "metadata": {},
   "source": [
    "## Averaging over Dimensions\n",
    "Many of the numpy array methods such as `sum()`, `mean()`, and `std()` allow you to perform the operation across a single dimension of multi-dimension arrays instead of the entire array.\n",
    "\n",
    "For example, if you have an array of size $(N, 100)$ that represents 100 data points over N points in time, this technique will allow you to find the average of the data points over each point in time. The result will be a one-dimension array of length $N$.\n",
    "\n",
    "<img src=\"nd_array.png\">"
   ]
  },
  {
   "cell_type": "code",
   "execution_count": null,
   "metadata": {},
   "outputs": [],
   "source": [
    "arr = np.random.random((50000, 1000))"
   ]
  },
  {
   "cell_type": "code",
   "execution_count": null,
   "metadata": {},
   "outputs": [],
   "source": [
    "arr"
   ]
  },
  {
   "cell_type": "code",
   "execution_count": null,
   "metadata": {},
   "outputs": [],
   "source": [
    "# Sum with axis=1: collapses the second dimension\n",
    "arr.sum(axis=1).shape"
   ]
  },
  {
   "cell_type": "code",
   "execution_count": null,
   "metadata": {},
   "outputs": [],
   "source": [
    "# Sum with axis=0: collapses the first dimension\n",
    "arr.sum(axis=0).shape"
   ]
  },
  {
   "cell_type": "markdown",
   "metadata": {},
   "source": [
    "Here we will load a series of images in a three dimension array. The first dimension is time and next two dimensions are the image. We average the image over the first 50 time steps and plot the result. As we average the data, structure will emerge in the form of a circular population at the bottom of the image."
   ]
  },
  {
   "cell_type": "code",
   "execution_count": null,
   "metadata": {},
   "outputs": [],
   "source": [
    "image_data = np.load('mms1_fpi_brst_l2_des-dist_20190129014133_v3.3.0.npy')\n",
    "print(image_data.shape)"
   ]
  },
  {
   "cell_type": "code",
   "execution_count": null,
   "metadata": {},
   "outputs": [],
   "source": [
    "plt.figure(figsize=(8, 4))\n",
    "plt.subplot(131)\n",
    "plt.imshow(image_data[0, :, :])\n",
    "plt.title('First frame')\n",
    "plt.subplot(132)\n",
    "plt.imshow(image_data[1, :, :])\n",
    "plt.title('Second frame')\n",
    "plt.subplot(133)\n",
    "plt.imshow(image_data[2, :, :])\n",
    "plt.title('Third frame')"
   ]
  },
  {
   "cell_type": "code",
   "execution_count": null,
   "metadata": {},
   "outputs": [],
   "source": [
    "# Averge over first 50 images\n",
    "averaged_image = image_data[:50, :, :].mean(axis=0)\n",
    "\n",
    "plt.imshow(averaged_image)"
   ]
  }
 ],
 "metadata": {
  "kernelspec": {
   "display_name": "Python 3",
   "language": "python",
   "name": "python3"
  },
  "language_info": {
   "codemirror_mode": {
    "name": "ipython",
    "version": 3
   },
   "file_extension": ".py",
   "mimetype": "text/x-python",
   "name": "python",
   "nbconvert_exporter": "python",
   "pygments_lexer": "ipython3",
   "version": "3.7.2"
  }
 },
 "nbformat": 4,
 "nbformat_minor": 2
}
